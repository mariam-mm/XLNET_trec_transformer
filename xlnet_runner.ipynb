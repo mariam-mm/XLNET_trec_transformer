{
 "metadata": {
  "language_info": {
   "codemirror_mode": {
    "name": "ipython",
    "version": 3
   },
   "file_extension": ".py",
   "mimetype": "text/x-python",
   "name": "python",
   "nbconvert_exporter": "python",
   "pygments_lexer": "ipython3",
   "version": "3.7.7-final"
  },
  "orig_nbformat": 2,
  "kernelspec": {
   "name": "python3",
   "display_name": "Python 3.7.7 64-bit ('venv')",
   "metadata": {
    "interpreter": {
     "hash": "e992683804abeb0147531cb6827b1671e2a5d876e5a7d0cfc77676c1bffa9627"
    }
   }
  }
 },
 "nbformat": 4,
 "nbformat_minor": 2,
 "cells": [
  {
   "cell_type": "code",
   "execution_count": 3,
   "metadata": {},
   "outputs": [],
   "source": [
    "from simpletransformers.classification import ClassificationModel, ClassificationArgs\n",
    "import pandas as pd\n",
    "import logging\n"
   ]
  },
  {
   "cell_type": "code",
   "execution_count": 4,
   "metadata": {},
   "outputs": [],
   "source": [
    "logging.basicConfig(level=logging.INFO)\n",
    "transformers_logger = logging.getLogger(\"transformers\")\n",
    "transformers_logger.setLevel(logging.WARNING)"
   ]
  },
  {
   "cell_type": "code",
   "execution_count": 5,
   "metadata": {},
   "outputs": [
    {
     "output_type": "execute_result",
     "data": {
      "text/plain": [
       "  trec_6                                               text\n",
       "0   DESC  manner How did serfdom develop in and then lea...\n",
       "1   ENTY  cremat What films featured the character Popey...\n",
       "2   DESC  manner How can I find a list of celebrities ' ...\n",
       "3   ENTY  animal What fowl grabs the spotlight after the...\n",
       "4   ABBR                exp What is the full form of .com ?"
      ],
      "text/html": "<div>\n<style scoped>\n    .dataframe tbody tr th:only-of-type {\n        vertical-align: middle;\n    }\n\n    .dataframe tbody tr th {\n        vertical-align: top;\n    }\n\n    .dataframe thead th {\n        text-align: right;\n    }\n</style>\n<table border=\"1\" class=\"dataframe\">\n  <thead>\n    <tr style=\"text-align: right;\">\n      <th></th>\n      <th>trec_6</th>\n      <th>text</th>\n    </tr>\n  </thead>\n  <tbody>\n    <tr>\n      <th>0</th>\n      <td>DESC</td>\n      <td>manner How did serfdom develop in and then lea...</td>\n    </tr>\n    <tr>\n      <th>1</th>\n      <td>ENTY</td>\n      <td>cremat What films featured the character Popey...</td>\n    </tr>\n    <tr>\n      <th>2</th>\n      <td>DESC</td>\n      <td>manner How can I find a list of celebrities ' ...</td>\n    </tr>\n    <tr>\n      <th>3</th>\n      <td>ENTY</td>\n      <td>animal What fowl grabs the spotlight after the...</td>\n    </tr>\n    <tr>\n      <th>4</th>\n      <td>ABBR</td>\n      <td>exp What is the full form of .com ?</td>\n    </tr>\n  </tbody>\n</table>\n</div>"
     },
     "metadata": {},
     "execution_count": 5
    }
   ],
   "source": [
    "df = pd.read_csv(\"train_5500.csv\", sep=\":\", error_bad_lines=False, names=['trec_6', 'text'])\n",
    "df.head()"
   ]
  },
  {
   "cell_type": "code",
   "execution_count": 6,
   "metadata": {},
   "outputs": [],
   "source": [
    "df['labels_v'] = df.text.str.split(expand=True)[0]"
   ]
  },
  {
   "cell_type": "code",
   "execution_count": 20,
   "metadata": {},
   "outputs": [
    {
     "output_type": "execute_result",
     "data": {
      "text/plain": [
       "       0     1      2         3        4          5       6      7   \\\n",
       "0  manner   How    did   serfdom  develop         in     and   then   \n",
       "1  cremat  What  films  featured      the  character  Popeye  Doyle   \n",
       "2  manner   How    can         I     find          a    list     of   \n",
       "3  animal  What   fowl     grabs      the  spotlight   after    the   \n",
       "4     exp  What     is       the     full       form      of   .com   \n",
       "\n",
       "            8       9   ...    28    29    30    31    32    33    34    35  \\\n",
       "0        leave  Russia  ...  None  None  None  None  None  None  None  None   \n",
       "1            ?    None  ...  None  None  None  None  None  None  None  None   \n",
       "2  celebrities       '  ...  None  None  None  None  None  None  None  None   \n",
       "3      Chinese    Year  ...  None  None  None  None  None  None  None  None   \n",
       "4            ?    None  ...  None  None  None  None  None  None  None  None   \n",
       "\n",
       "     36    37  \n",
       "0  None  None  \n",
       "1  None  None  \n",
       "2  None  None  \n",
       "3  None  None  \n",
       "4  None  None  \n",
       "\n",
       "[5 rows x 38 columns]"
      ],
      "text/html": "<div>\n<style scoped>\n    .dataframe tbody tr th:only-of-type {\n        vertical-align: middle;\n    }\n\n    .dataframe tbody tr th {\n        vertical-align: top;\n    }\n\n    .dataframe thead th {\n        text-align: right;\n    }\n</style>\n<table border=\"1\" class=\"dataframe\">\n  <thead>\n    <tr style=\"text-align: right;\">\n      <th></th>\n      <th>0</th>\n      <th>1</th>\n      <th>2</th>\n      <th>3</th>\n      <th>4</th>\n      <th>5</th>\n      <th>6</th>\n      <th>7</th>\n      <th>8</th>\n      <th>9</th>\n      <th>...</th>\n      <th>28</th>\n      <th>29</th>\n      <th>30</th>\n      <th>31</th>\n      <th>32</th>\n      <th>33</th>\n      <th>34</th>\n      <th>35</th>\n      <th>36</th>\n      <th>37</th>\n    </tr>\n  </thead>\n  <tbody>\n    <tr>\n      <th>0</th>\n      <td>manner</td>\n      <td>How</td>\n      <td>did</td>\n      <td>serfdom</td>\n      <td>develop</td>\n      <td>in</td>\n      <td>and</td>\n      <td>then</td>\n      <td>leave</td>\n      <td>Russia</td>\n      <td>...</td>\n      <td>None</td>\n      <td>None</td>\n      <td>None</td>\n      <td>None</td>\n      <td>None</td>\n      <td>None</td>\n      <td>None</td>\n      <td>None</td>\n      <td>None</td>\n      <td>None</td>\n    </tr>\n    <tr>\n      <th>1</th>\n      <td>cremat</td>\n      <td>What</td>\n      <td>films</td>\n      <td>featured</td>\n      <td>the</td>\n      <td>character</td>\n      <td>Popeye</td>\n      <td>Doyle</td>\n      <td>?</td>\n      <td>None</td>\n      <td>...</td>\n      <td>None</td>\n      <td>None</td>\n      <td>None</td>\n      <td>None</td>\n      <td>None</td>\n      <td>None</td>\n      <td>None</td>\n      <td>None</td>\n      <td>None</td>\n      <td>None</td>\n    </tr>\n    <tr>\n      <th>2</th>\n      <td>manner</td>\n      <td>How</td>\n      <td>can</td>\n      <td>I</td>\n      <td>find</td>\n      <td>a</td>\n      <td>list</td>\n      <td>of</td>\n      <td>celebrities</td>\n      <td>'</td>\n      <td>...</td>\n      <td>None</td>\n      <td>None</td>\n      <td>None</td>\n      <td>None</td>\n      <td>None</td>\n      <td>None</td>\n      <td>None</td>\n      <td>None</td>\n      <td>None</td>\n      <td>None</td>\n    </tr>\n    <tr>\n      <th>3</th>\n      <td>animal</td>\n      <td>What</td>\n      <td>fowl</td>\n      <td>grabs</td>\n      <td>the</td>\n      <td>spotlight</td>\n      <td>after</td>\n      <td>the</td>\n      <td>Chinese</td>\n      <td>Year</td>\n      <td>...</td>\n      <td>None</td>\n      <td>None</td>\n      <td>None</td>\n      <td>None</td>\n      <td>None</td>\n      <td>None</td>\n      <td>None</td>\n      <td>None</td>\n      <td>None</td>\n      <td>None</td>\n    </tr>\n    <tr>\n      <th>4</th>\n      <td>exp</td>\n      <td>What</td>\n      <td>is</td>\n      <td>the</td>\n      <td>full</td>\n      <td>form</td>\n      <td>of</td>\n      <td>.com</td>\n      <td>?</td>\n      <td>None</td>\n      <td>...</td>\n      <td>None</td>\n      <td>None</td>\n      <td>None</td>\n      <td>None</td>\n      <td>None</td>\n      <td>None</td>\n      <td>None</td>\n      <td>None</td>\n      <td>None</td>\n      <td>None</td>\n    </tr>\n  </tbody>\n</table>\n<p>5 rows × 38 columns</p>\n</div>"
     },
     "metadata": {},
     "execution_count": 20
    }
   ],
   "source": [
    "df.text.str.split(expand=True).head()"
   ]
  },
  {
   "cell_type": "code",
   "execution_count": 7,
   "metadata": {},
   "outputs": [],
   "source": [
    "df['text'] = df.text.str.split(n=1).str[1]"
   ]
  },
  {
   "cell_type": "code",
   "execution_count": 8,
   "metadata": {},
   "outputs": [
    {
     "output_type": "display_data",
     "data": {
      "text/plain": "     trec_6  labels_v                                      text\n5447   ENTY     other   What 's the shape of a camel 's spine ?\n5448   ENTY  currency  What type of currency is used in China ?\n5449    NUM      temp           What is the temperature today ?\n5450    NUM      temp     What is the temperature for cooking ?\n5451   ENTY  currency      What currency is used in Australia ?",
      "text/html": "<div>\n<style scoped>\n    .dataframe tbody tr th:only-of-type {\n        vertical-align: middle;\n    }\n\n    .dataframe tbody tr th {\n        vertical-align: top;\n    }\n\n    .dataframe thead th {\n        text-align: right;\n    }\n</style>\n<table border=\"1\" class=\"dataframe\">\n  <thead>\n    <tr style=\"text-align: right;\">\n      <th></th>\n      <th>trec_6</th>\n      <th>labels_v</th>\n      <th>text</th>\n    </tr>\n  </thead>\n  <tbody>\n    <tr>\n      <th>5447</th>\n      <td>ENTY</td>\n      <td>other</td>\n      <td>What 's the shape of a camel 's spine ?</td>\n    </tr>\n    <tr>\n      <th>5448</th>\n      <td>ENTY</td>\n      <td>currency</td>\n      <td>What type of currency is used in China ?</td>\n    </tr>\n    <tr>\n      <th>5449</th>\n      <td>NUM</td>\n      <td>temp</td>\n      <td>What is the temperature today ?</td>\n    </tr>\n    <tr>\n      <th>5450</th>\n      <td>NUM</td>\n      <td>temp</td>\n      <td>What is the temperature for cooking ?</td>\n    </tr>\n    <tr>\n      <th>5451</th>\n      <td>ENTY</td>\n      <td>currency</td>\n      <td>What currency is used in Australia ?</td>\n    </tr>\n  </tbody>\n</table>\n</div>"
     },
     "metadata": {}
    },
    {
     "output_type": "display_data",
     "data": {
      "text/plain": "5452"
     },
     "metadata": {}
    }
   ],
   "source": [
    "df = df[['trec_6', 'labels_v', 'text']]\n",
    "display(df.tail())\n",
    "display(len(df.index))"
   ]
  },
  {
   "cell_type": "code",
   "execution_count": 29,
   "metadata": {},
   "outputs": [
    {
     "output_type": "display_data",
     "data": {
      "text/plain": "     trec_6  labels_v                                      text\n5447   ENTY     other   What 's the shape of a camel 's spine ?\n5448   ENTY  currency  What type of currency is used in China ?\n5449    NUM      temp           What is the temperature today ?\n5450    NUM      temp     What is the temperature for cooking ?\n5451   ENTY  currency      What currency is used in Australia ?",
      "text/html": "<div>\n<style scoped>\n    .dataframe tbody tr th:only-of-type {\n        vertical-align: middle;\n    }\n\n    .dataframe tbody tr th {\n        vertical-align: top;\n    }\n\n    .dataframe thead th {\n        text-align: right;\n    }\n</style>\n<table border=\"1\" class=\"dataframe\">\n  <thead>\n    <tr style=\"text-align: right;\">\n      <th></th>\n      <th>trec_6</th>\n      <th>labels_v</th>\n      <th>text</th>\n    </tr>\n  </thead>\n  <tbody>\n    <tr>\n      <th>5447</th>\n      <td>ENTY</td>\n      <td>other</td>\n      <td>What 's the shape of a camel 's spine ?</td>\n    </tr>\n    <tr>\n      <th>5448</th>\n      <td>ENTY</td>\n      <td>currency</td>\n      <td>What type of currency is used in China ?</td>\n    </tr>\n    <tr>\n      <th>5449</th>\n      <td>NUM</td>\n      <td>temp</td>\n      <td>What is the temperature today ?</td>\n    </tr>\n    <tr>\n      <th>5450</th>\n      <td>NUM</td>\n      <td>temp</td>\n      <td>What is the temperature for cooking ?</td>\n    </tr>\n    <tr>\n      <th>5451</th>\n      <td>ENTY</td>\n      <td>currency</td>\n      <td>What currency is used in Australia ?</td>\n    </tr>\n  </tbody>\n</table>\n</div>"
     },
     "metadata": {}
    },
    {
     "output_type": "display_data",
     "data": {
      "text/plain": "5452"
     },
     "metadata": {}
    }
   ],
   "source": [
    "eval_data = pd.read_csv(\"TREC_10_label.csv\", sep=\":\", error_bad_lines=False, names=['trec_6', 'text'])\n",
    "eval_data.head()"
   ]
  },
  {
   "cell_type": "code",
   "execution_count": 31,
   "metadata": {},
   "outputs": [
    {
     "output_type": "display_data",
     "data": {
      "text/plain": "    trec_6 labels_v                                    text\n495    HUM     What  Who was the 22nd President of the US ?\n496   ENTY      Why  What is the money they use in Zambia ?\n497    NUM     What               How many feet in a mile ?\n498   ENTY     What     What is the birthstone of October ?\n499   DESC    Which                        What is e-coli ?",
      "text/html": "<div>\n<style scoped>\n    .dataframe tbody tr th:only-of-type {\n        vertical-align: middle;\n    }\n\n    .dataframe tbody tr th {\n        vertical-align: top;\n    }\n\n    .dataframe thead th {\n        text-align: right;\n    }\n</style>\n<table border=\"1\" class=\"dataframe\">\n  <thead>\n    <tr style=\"text-align: right;\">\n      <th></th>\n      <th>trec_6</th>\n      <th>labels_v</th>\n      <th>text</th>\n    </tr>\n  </thead>\n  <tbody>\n    <tr>\n      <th>495</th>\n      <td>HUM</td>\n      <td>What</td>\n      <td>Who was the 22nd President of the US ?</td>\n    </tr>\n    <tr>\n      <th>496</th>\n      <td>ENTY</td>\n      <td>Why</td>\n      <td>What is the money they use in Zambia ?</td>\n    </tr>\n    <tr>\n      <th>497</th>\n      <td>NUM</td>\n      <td>What</td>\n      <td>How many feet in a mile ?</td>\n    </tr>\n    <tr>\n      <th>498</th>\n      <td>ENTY</td>\n      <td>What</td>\n      <td>What is the birthstone of October ?</td>\n    </tr>\n    <tr>\n      <th>499</th>\n      <td>DESC</td>\n      <td>Which</td>\n      <td>What is e-coli ?</td>\n    </tr>\n  </tbody>\n</table>\n</div>"
     },
     "metadata": {}
    },
    {
     "output_type": "display_data",
     "data": {
      "text/plain": "500"
     },
     "metadata": {}
    }
   ],
   "source": [
    "eval_data['labels_v'] = df.text.str.split(expand=True)[0]\n",
    "eval_data['text'] = eval_data.text.str.split(n=1).str[1]\n",
    "eval_data = eval_data[['trec_6', 'labels_v', 'text']]\n",
    "display(eval_data.tail())\n",
    "display(len(eval_data.index))"
   ]
  },
  {
   "cell_type": "code",
   "execution_count": 9,
   "metadata": {},
   "outputs": [
    {
     "output_type": "display_data",
     "data": {
      "text/plain": "  trec_6 labels_v                                               text  labels\n0   DESC   manner  How did serfdom develop in and then leave Russ...       5\n1   ENTY   cremat   What films featured the character Popeye Doyle ?       7\n2   DESC   manner  How can I find a list of celebrities ' real na...       5\n3   ENTY   animal  What fowl grabs the spotlight after the Chines...      12\n4   ABBR      exp                    What is the full form of .com ?      18",
      "text/html": "<div>\n<style scoped>\n    .dataframe tbody tr th:only-of-type {\n        vertical-align: middle;\n    }\n\n    .dataframe tbody tr th {\n        vertical-align: top;\n    }\n\n    .dataframe thead th {\n        text-align: right;\n    }\n</style>\n<table border=\"1\" class=\"dataframe\">\n  <thead>\n    <tr style=\"text-align: right;\">\n      <th></th>\n      <th>trec_6</th>\n      <th>labels_v</th>\n      <th>text</th>\n      <th>labels</th>\n    </tr>\n  </thead>\n  <tbody>\n    <tr>\n      <th>0</th>\n      <td>DESC</td>\n      <td>manner</td>\n      <td>How did serfdom develop in and then leave Russ...</td>\n      <td>5</td>\n    </tr>\n    <tr>\n      <th>1</th>\n      <td>ENTY</td>\n      <td>cremat</td>\n      <td>What films featured the character Popeye Doyle ?</td>\n      <td>7</td>\n    </tr>\n    <tr>\n      <th>2</th>\n      <td>DESC</td>\n      <td>manner</td>\n      <td>How can I find a list of celebrities ' real na...</td>\n      <td>5</td>\n    </tr>\n    <tr>\n      <th>3</th>\n      <td>ENTY</td>\n      <td>animal</td>\n      <td>What fowl grabs the spotlight after the Chines...</td>\n      <td>12</td>\n    </tr>\n    <tr>\n      <th>4</th>\n      <td>ABBR</td>\n      <td>exp</td>\n      <td>What is the full form of .com ?</td>\n      <td>18</td>\n    </tr>\n  </tbody>\n</table>\n</div>"
     },
     "metadata": {}
    },
    {
     "output_type": "display_data",
     "data": {
      "text/plain": "5452"
     },
     "metadata": {}
    }
   ],
   "source": [
    "label_df = df['labels_v'].value_counts().rename_axis('labels_v').reset_index(name='trec50_labels_counts')\n",
    "\n",
    "label_df['labels'] = label_df.index\n",
    "\n",
    "label_df.head()\n",
    "\n",
    "label_dict = dict(zip(label_df.labels_v, label_df.labels))\n",
    "# \n",
    "df['labels'] = df['labels_v'].map(label_dict)\n",
    "display(df.head())\n",
    "display(len(df.index))"
   ]
  },
  {
   "cell_type": "code",
   "execution_count": 37,
   "metadata": {},
   "outputs": [
    {
     "output_type": "display_data",
     "data": {
      "text/plain": "  trec_6 labels_v                                      text  labels\n0    NUM      How      How far is it from Denver to Aspen ?     NaN\n1    LOC     What  What county is Modesto , California in ?     NaN\n2    HUM      How                         Who was Galileo ?     NaN\n3   DESC     What                         What is an atom ?     NaN\n4    NUM     What          When did Hawaii become a state ?     NaN",
      "text/html": "<div>\n<style scoped>\n    .dataframe tbody tr th:only-of-type {\n        vertical-align: middle;\n    }\n\n    .dataframe tbody tr th {\n        vertical-align: top;\n    }\n\n    .dataframe thead th {\n        text-align: right;\n    }\n</style>\n<table border=\"1\" class=\"dataframe\">\n  <thead>\n    <tr style=\"text-align: right;\">\n      <th></th>\n      <th>trec_6</th>\n      <th>labels_v</th>\n      <th>text</th>\n      <th>labels</th>\n    </tr>\n  </thead>\n  <tbody>\n    <tr>\n      <th>0</th>\n      <td>NUM</td>\n      <td>How</td>\n      <td>How far is it from Denver to Aspen ?</td>\n      <td>NaN</td>\n    </tr>\n    <tr>\n      <th>1</th>\n      <td>LOC</td>\n      <td>What</td>\n      <td>What county is Modesto , California in ?</td>\n      <td>NaN</td>\n    </tr>\n    <tr>\n      <th>2</th>\n      <td>HUM</td>\n      <td>How</td>\n      <td>Who was Galileo ?</td>\n      <td>NaN</td>\n    </tr>\n    <tr>\n      <th>3</th>\n      <td>DESC</td>\n      <td>What</td>\n      <td>What is an atom ?</td>\n      <td>NaN</td>\n    </tr>\n    <tr>\n      <th>4</th>\n      <td>NUM</td>\n      <td>What</td>\n      <td>When did Hawaii become a state ?</td>\n      <td>NaN</td>\n    </tr>\n  </tbody>\n</table>\n</div>"
     },
     "metadata": {}
    },
    {
     "output_type": "display_data",
     "data": {
      "text/plain": "500"
     },
     "metadata": {}
    }
   ],
   "source": [
    "# label_df = eval_data['labels_v'].value_counts().rename_axis('labels_v').reset_index(name='trec50_labels_counts')\n",
    "\n",
    "# label_df['labels'] = label_df.index\n",
    "\n",
    "# label_df.head()\n",
    "\n",
    "# label_dict = dict(zip(label_df.labels_v, label_df.labels))\n",
    "# \n",
    "eval_data['labels'] = eval_data['labels_v'].map(label_dict)\n",
    "display(eval_data.head())\n",
    "display(len(eval_data.index))"
   ]
  },
  {
   "cell_type": "code",
   "execution_count": 40,
   "metadata": {},
   "outputs": [],
   "source": [
    "# eval_data['labels_v'].value_counts()"
   ]
  },
  {
   "cell_type": "code",
   "execution_count": 44,
   "metadata": {
    "tags": [
     "outputPrepend"
    ]
   },
   "outputs": [
    {
     "output_type": "stream",
     "name": "stderr",
     "text": [
      " 65.43s/it]\u001b[A\n",
      "Epochs 0/1. Running Loss:    2.0838:  32%|███▏      | 50/154 [54:21<1:53:19, 65.38s/it]\u001b[A\n",
      "Epochs 0/1. Running Loss:    2.1776:  32%|███▏      | 50/154 [54:45<1:53:19, 65.38s/it]\u001b[A\n",
      "Epochs 0/1. Running Loss:    2.1776:  33%|███▎      | 51/154 [55:27<1:52:20, 65.44s/it]\u001b[A\n",
      "Epochs 0/1. Running Loss:    2.0683:  33%|███▎      | 51/154 [55:50<1:52:20, 65.44s/it]\u001b[A\n",
      "Epochs 0/1. Running Loss:    2.0683:  34%|███▍      | 52/154 [56:32<1:51:07, 65.37s/it]\u001b[A\n",
      "Epochs 0/1. Running Loss:    2.3381:  34%|███▍      | 52/154 [56:55<1:51:07, 65.37s/it]\u001b[A\n",
      "Epochs 0/1. Running Loss:    2.3381:  34%|███▍      | 53/154 [57:37<1:49:49, 65.24s/it]\u001b[A\n",
      "Epochs 0/1. Running Loss:    2.5377:  34%|███▍      | 53/154 [58:00<1:49:49, 65.24s/it]\u001b[A\n",
      "Epochs 0/1. Running Loss:    2.5377:  35%|███▌      | 54/154 [58:42<1:48:38, 65.19s/it]\u001b[A\n",
      "Epochs 0/1. Running Loss:    2.1375:  35%|███▌      | 54/154 [59:05<1:48:38, 65.19s/it]\u001b[A\n",
      "Epochs 0/1. Running Loss:    2.1375:  36%|███▌      | 55/154 [59:47<1:47:33, 65.18s/it]\u001b[A\n",
      "Epochs 0/1. Running Loss:    1.6640:  36%|███▌      | 55/154 [1:00:10<1:47:33, 65.18s/it]\u001b[A\n",
      "Epochs 0/1. Running Loss:    1.6640:  36%|███▋      | 56/154 [1:00:52<1:46:20, 65.11s/it]\u001b[A\n",
      "Epochs 0/1. Running Loss:    2.2310:  36%|███▋      | 56/154 [1:01:15<1:46:20, 65.11s/it]\u001b[A\n",
      "Epochs 0/1. Running Loss:    2.2310:  37%|███▋      | 57/154 [1:01:57<1:45:06, 65.02s/it]\u001b[A\n",
      "Epochs 0/1. Running Loss:    2.0017:  37%|███▋      | 57/154 [1:02:20<1:45:06, 65.02s/it]\u001b[A\n",
      "Epochs 0/1. Running Loss:    2.0017:  38%|███▊      | 58/154 [1:03:02<1:44:13, 65.14s/it]\u001b[A\n",
      "Epochs 0/1. Running Loss:    1.7569:  38%|███▊      | 58/154 [1:03:26<1:44:13, 65.14s/it]\u001b[A\n",
      "Epochs 0/1. Running Loss:    1.7569:  38%|███▊      | 59/154 [1:04:08<1:43:24, 65.31s/it]\u001b[A\n",
      "Epochs 0/1. Running Loss:    1.8120:  38%|███▊      | 59/154 [1:04:32<1:43:24, 65.31s/it]\u001b[A\n",
      "Epochs 0/1. Running Loss:    1.8120:  39%|███▉      | 60/154 [1:05:13<1:42:21, 65.34s/it]\u001b[A\n",
      "Epochs 0/1. Running Loss:    1.6578:  39%|███▉      | 60/154 [1:05:37<1:42:21, 65.34s/it]\u001b[A\n",
      "Epochs 0/1. Running Loss:    1.6578:  40%|███▉      | 61/154 [1:06:18<1:41:11, 65.28s/it]\u001b[A\n",
      "Epochs 0/1. Running Loss:    2.4852:  40%|███▉      | 61/154 [1:06:42<1:41:11, 65.28s/it]\u001b[A\n",
      "Epochs 0/1. Running Loss:    2.4852:  40%|████      | 62/154 [1:07:23<1:40:00, 65.22s/it]\u001b[A\n",
      "Epochs 0/1. Running Loss:    2.5127:  40%|████      | 62/154 [1:07:47<1:40:00, 65.22s/it]\u001b[A\n",
      "Epochs 0/1. Running Loss:    2.5127:  41%|████      | 63/154 [1:08:28<1:38:40, 65.06s/it]\u001b[A\n",
      "Epochs 0/1. Running Loss:    1.9466:  41%|████      | 63/154 [1:08:52<1:38:40, 65.06s/it]\u001b[A\n",
      "Epochs 0/1. Running Loss:    1.9466:  42%|████▏     | 64/154 [1:09:34<1:37:43, 65.15s/it]\u001b[A\n",
      "Epochs 0/1. Running Loss:    1.7648:  42%|████▏     | 64/154 [1:09:57<1:37:43, 65.15s/it]\u001b[A\n",
      "Epochs 0/1. Running Loss:    1.7648:  42%|████▏     | 65/154 [1:10:39<1:36:57, 65.37s/it]\u001b[A\n",
      "Epochs 0/1. Running Loss:    2.1019:  42%|████▏     | 65/154 [1:11:03<1:36:57, 65.37s/it]\u001b[A\n",
      "Epochs 0/1. Running Loss:    2.1019:  43%|████▎     | 66/154 [1:11:45<1:35:47, 65.31s/it]\u001b[A\n",
      "Epochs 0/1. Running Loss:    2.0085:  43%|████▎     | 66/154 [1:12:08<1:35:47, 65.31s/it]\u001b[A\n",
      "Epochs 0/1. Running Loss:    2.0085:  44%|████▎     | 67/154 [1:12:50<1:34:33, 65.22s/it]\u001b[A\n",
      "Epochs 0/1. Running Loss:    2.2653:  44%|████▎     | 67/154 [1:13:13<1:34:33, 65.22s/it]\u001b[A\n",
      "Epochs 0/1. Running Loss:    2.2653:  44%|████▍     | 68/154 [1:13:55<1:33:22, 65.15s/it]\u001b[A\n",
      "Epochs 0/1. Running Loss:    1.9207:  44%|████▍     | 68/154 [1:14:19<1:33:22, 65.15s/it]\u001b[A\n",
      "Epochs 0/1. Running Loss:    1.9207:  45%|████▍     | 69/154 [1:15:01<1:33:00, 65.65s/it]\u001b[A\n",
      "Epochs 0/1. Running Loss:    1.7794:  45%|████▍     | 69/154 [1:15:24<1:33:00, 65.65s/it]\u001b[A\n",
      "Epochs 0/1. Running Loss:    1.7794:  45%|████▌     | 70/154 [1:16:06<1:31:19, 65.24s/it]\u001b[A\n",
      "Epochs 0/1. Running Loss:    1.9919:  45%|████▌     | 70/154 [1:16:29<1:31:19, 65.24s/it]\u001b[A\n",
      "Epochs 0/1. Running Loss:    1.9919:  46%|████▌     | 71/154 [1:17:11<1:30:06, 65.13s/it]\u001b[A\n",
      "Epochs 0/1. Running Loss:    2.0008:  46%|████▌     | 71/154 [1:17:34<1:30:06, 65.13s/it]\u001b[A\n",
      "Epochs 0/1. Running Loss:    2.0008:  47%|████▋     | 72/154 [1:18:16<1:29:04, 65.17s/it]\u001b[A\n",
      "Epochs 0/1. Running Loss:    2.1175:  47%|████▋     | 72/154 [1:18:39<1:29:04, 65.17s/it]\u001b[A\n",
      "Epochs 0/1. Running Loss:    2.1175:  47%|████▋     | 73/154 [1:19:21<1:27:54, 65.12s/it]\u001b[A\n",
      "Epochs 0/1. Running Loss:    1.7559:  47%|████▋     | 73/154 [1:19:44<1:27:54, 65.12s/it]\u001b[A\n",
      "Epochs 0/1. Running Loss:    1.7559:  48%|████▊     | 74/154 [1:20:26<1:26:44, 65.06s/it]\u001b[A\n",
      "Epochs 0/1. Running Loss:    1.9518:  48%|████▊     | 74/154 [1:20:49<1:26:44, 65.06s/it]\u001b[A\n",
      "Epochs 0/1. Running Loss:    1.9518:  49%|████▊     | 75/154 [1:21:31<1:25:38, 65.04s/it]\u001b[A\n",
      "Epochs 0/1. Running Loss:    1.9031:  49%|████▊     | 75/154 [1:21:54<1:25:38, 65.04s/it]\u001b[A\n",
      "Epochs 0/1. Running Loss:    1.9031:  49%|████▉     | 76/154 [1:22:35<1:24:24, 64.93s/it]\u001b[A\n",
      "Epochs 0/1. Running Loss:    2.0386:  49%|████▉     | 76/154 [1:22:59<1:24:24, 64.93s/it]\u001b[A\n",
      "Epochs 0/1. Running Loss:    2.0386:  50%|█████     | 77/154 [1:23:40<1:23:15, 64.87s/it]\u001b[A\n",
      "Epochs 0/1. Running Loss:    2.5117:  50%|█████     | 77/154 [1:24:03<1:23:15, 64.87s/it]\u001b[A\n",
      "Epochs 0/1. Running Loss:    2.5117:  51%|█████     | 78/154 [1:24:45<1:22:08, 64.85s/it]\u001b[A\n",
      "Epochs 0/1. Running Loss:    1.6952:  51%|█████     | 78/154 [1:25:08<1:22:08, 64.85s/it]\u001b[A\n",
      "Epochs 0/1. Running Loss:    1.6952:  51%|█████▏    | 79/154 [1:25:50<1:21:07, 64.90s/it]\u001b[A\n",
      "Epochs 0/1. Running Loss:    1.4208:  51%|█████▏    | 79/154 [1:26:13<1:21:07, 64.90s/it]\u001b[A\n",
      "Epochs 0/1. Running Loss:    1.4208:  52%|█████▏    | 80/154 [1:26:55<1:20:12, 65.03s/it]\u001b[A\n",
      "Epochs 0/1. Running Loss:    2.4691:  52%|█████▏    | 80/154 [1:27:19<1:20:12, 65.03s/it]\u001b[A\n",
      "Epochs 0/1. Running Loss:    2.4691:  53%|█████▎    | 81/154 [1:28:01<1:19:14, 65.13s/it]\u001b[A\n",
      "Epochs 0/1. Running Loss:    1.6779:  53%|█████▎    | 81/154 [1:28:24<1:19:14, 65.13s/it]\u001b[A\n",
      "Epochs 0/1. Running Loss:    1.6779:  53%|█████▎    | 82/154 [1:29:06<1:18:18, 65.26s/it]\u001b[A\n",
      "Epochs 0/1. Running Loss:    1.9458:  53%|█████▎    | 82/154 [1:29:30<1:18:18, 65.26s/it]\u001b[A\n",
      "Epochs 0/1. Running Loss:    1.9458:  54%|█████▍    | 83/154 [1:30:11<1:17:09, 65.20s/it]\u001b[A\n",
      "Epochs 0/1. Running Loss:    1.7852:  54%|█████▍    | 83/154 [1:30:35<1:17:09, 65.20s/it]\u001b[A\n",
      "Epochs 0/1. Running Loss:    1.7852:  55%|█████▍    | 84/154 [1:31:16<1:15:56, 65.09s/it]\u001b[A\n",
      "Epochs 0/1. Running Loss:    1.6538:  55%|█████▍    | 84/154 [1:31:39<1:15:56, 65.09s/it]\u001b[A\n",
      "Epochs 0/1. Running Loss:    1.6538:  55%|█████▌    | 85/154 [1:32:21<1:14:53, 65.12s/it]\u001b[A\n",
      "Epochs 0/1. Running Loss:    1.7512:  55%|█████▌    | 85/154 [1:32:44<1:14:53, 65.12s/it]\u001b[A\n",
      "Epochs 0/1. Running Loss:    1.7512:  56%|█████▌    | 86/154 [1:33:25<1:13:23, 64.76s/it]\u001b[A\n",
      "Epochs 0/1. Running Loss:    1.5472:  56%|█████▌    | 86/154 [1:33:48<1:13:23, 64.76s/it]\u001b[A\n",
      "Epochs 0/1. Running Loss:    1.5472:  56%|█████▋    | 87/154 [1:34:29<1:12:05, 64.56s/it]\u001b[A\n",
      "Epochs 0/1. Running Loss:    1.6563:  56%|█████▋    | 87/154 [1:34:53<1:12:05, 64.56s/it]\u001b[A\n",
      "Epochs 0/1. Running Loss:    1.6563:  57%|█████▋    | 88/154 [1:35:34<1:11:05, 64.62s/it]\u001b[A\n",
      "Epochs 0/1. Running Loss:    2.0534:  57%|█████▋    | 88/154 [1:35:57<1:11:05, 64.62s/it]\u001b[A\n",
      "Epochs 0/1. Running Loss:    2.0534:  58%|█████▊    | 89/154 [1:36:39<1:10:07, 64.73s/it]\u001b[A\n",
      "Epochs 0/1. Running Loss:    2.2601:  58%|█████▊    | 89/154 [1:37:02<1:10:07, 64.73s/it]\u001b[A\n",
      "Epochs 0/1. Running Loss:    2.2601:  58%|█████▊    | 90/154 [1:37:44<1:09:07, 64.81s/it]\u001b[A\n",
      "Epochs 0/1. Running Loss:    1.7186:  58%|█████▊    | 90/154 [1:38:08<1:09:07, 64.81s/it]\u001b[A\n",
      "Epochs 0/1. Running Loss:    1.7186:  59%|█████▉    | 91/154 [1:38:49<1:08:08, 64.90s/it]\u001b[A\n",
      "Epochs 0/1. Running Loss:    1.4646:  59%|█████▉    | 91/154 [1:39:13<1:08:08, 64.90s/it]\u001b[A\n",
      "Epochs 0/1. Running Loss:    1.4646:  60%|█████▉    | 92/154 [1:39:54<1:07:06, 64.94s/it]\u001b[A\n",
      "Epochs 0/1. Running Loss:    1.4802:  60%|█████▉    | 92/154 [1:40:18<1:07:06, 64.94s/it]\u001b[A\n",
      "Epochs 0/1. Running Loss:    1.4802:  60%|██████    | 93/154 [1:40:59<1:05:58, 64.90s/it]\u001b[A\n",
      "Epochs 0/1. Running Loss:    1.6757:  60%|██████    | 93/154 [1:41:22<1:05:58, 64.90s/it]\u001b[A\n",
      "Epochs 0/1. Running Loss:    1.6757:  61%|██████    | 94/154 [1:42:04<1:04:59, 64.99s/it]\u001b[A\n",
      "Epochs 0/1. Running Loss:    1.6987:  61%|██████    | 94/154 [1:42:28<1:04:59, 64.99s/it]\u001b[A\n",
      "Epochs 0/1. Running Loss:    1.6987:  62%|██████▏   | 95/154 [1:43:09<1:03:56, 65.03s/it]\u001b[A\n",
      "Epochs 0/1. Running Loss:    1.5092:  62%|██████▏   | 95/154 [1:43:33<1:03:56, 65.03s/it]\u001b[A\n",
      "Epochs 0/1. Running Loss:    1.5092:  62%|██████▏   | 96/154 [1:44:14<1:02:50, 65.01s/it]\u001b[A\n",
      "Epochs 0/1. Running Loss:    1.6695:  62%|██████▏   | 96/154 [1:44:38<1:02:50, 65.01s/it]\u001b[A\n",
      "Epochs 0/1. Running Loss:    1.6695:  63%|██████▎   | 97/154 [1:45:20<1:01:56, 65.20s/it]\u001b[A\n",
      "Epochs 0/1. Running Loss:    2.1981:  63%|██████▎   | 97/154 [1:45:43<1:01:56, 65.20s/it]\u001b[A\n",
      "Epochs 0/1. Running Loss:    2.1981:  64%|██████▎   | 98/154 [1:46:25<1:00:46, 65.12s/it]\u001b[A\n",
      "Epochs 0/1. Running Loss:    1.5561:  64%|██████▎   | 98/154 [1:46:48<1:00:46, 65.12s/it]\u001b[A\n",
      "Epochs 0/1. Running Loss:    1.5561:  64%|██████▍   | 99/154 [1:47:30<59:36, 65.02s/it]  \u001b[A\n",
      "Epochs 0/1. Running Loss:    1.4461:  64%|██████▍   | 99/154 [1:47:53<59:36, 65.02s/it]\u001b[A\n",
      "Epochs 0/1. Running Loss:    1.4461:  65%|██████▍   | 100/154 [1:48:35<58:29, 64.99s/it]\u001b[A\n",
      "Epochs 0/1. Running Loss:    1.4970:  65%|██████▍   | 100/154 [1:48:58<58:29, 64.99s/it]\u001b[A\n",
      "Epochs 0/1. Running Loss:    1.4970:  66%|██████▌   | 101/154 [1:49:39<57:15, 64.83s/it]\u001b[A\n",
      "Epochs 0/1. Running Loss:    1.6819:  66%|██████▌   | 101/154 [1:50:02<57:15, 64.83s/it]\u001b[A\n",
      "Epochs 0/1. Running Loss:    1.6819:  66%|██████▌   | 102/154 [1:50:44<56:11, 64.83s/it]\u001b[A\n",
      "Epochs 0/1. Running Loss:    1.7553:  66%|██████▌   | 102/154 [1:51:07<56:11, 64.83s/it]\u001b[A\n",
      "Epochs 0/1. Running Loss:    1.7553:  67%|██████▋   | 103/154 [1:51:49<55:07, 64.85s/it]\u001b[A\n",
      "Epochs 0/1. Running Loss:    1.4789:  67%|██████▋   | 103/154 [1:52:12<55:07, 64.85s/it]\u001b[A\n",
      "Epochs 0/1. Running Loss:    1.4789:  68%|██████▊   | 104/154 [1:52:54<54:10, 65.01s/it]\u001b[A\n",
      "Epochs 0/1. Running Loss:    1.1944:  68%|██████▊   | 104/154 [1:53:18<54:10, 65.01s/it]\u001b[A\n",
      "Epochs 0/1. Running Loss:    1.1944:  68%|██████▊   | 105/154 [1:53:59<53:05, 65.02s/it]\u001b[A\n",
      "Epochs 0/1. Running Loss:    1.9491:  68%|██████▊   | 105/154 [1:54:23<53:05, 65.02s/it]\u001b[A\n",
      "Epochs 0/1. Running Loss:    1.9491:  69%|██████▉   | 106/154 [1:55:04<52:05, 65.11s/it]\u001b[A\n",
      "Epochs 0/1. Running Loss:    1.2919:  69%|██████▉   | 106/154 [1:55:28<52:05, 65.11s/it]\u001b[A\n",
      "Epochs 0/1. Running Loss:    1.2919:  69%|██████▉   | 107/154 [1:56:10<51:03, 65.18s/it]\u001b[A\n",
      "Epochs 0/1. Running Loss:    1.4540:  69%|██████▉   | 107/154 [1:56:33<51:03, 65.18s/it]\u001b[A\n",
      "Epochs 0/1. Running Loss:    1.4540:  70%|███████   | 108/154 [1:57:15<49:52, 65.04s/it]\u001b[A\n",
      "Epochs 0/1. Running Loss:    1.2387:  70%|███████   | 108/154 [1:57:38<49:52, 65.04s/it]\u001b[A\n",
      "Epochs 0/1. Running Loss:    1.2387:  71%|███████   | 109/154 [1:58:19<48:45, 65.01s/it]\u001b[A\n",
      "Epochs 0/1. Running Loss:    1.4183:  71%|███████   | 109/154 [1:58:43<48:45, 65.01s/it]\u001b[A\n",
      "Epochs 0/1. Running Loss:    1.4183:  71%|███████▏  | 110/154 [1:59:24<47:34, 64.87s/it]\u001b[A\n",
      "Epochs 0/1. Running Loss:    1.5996:  71%|███████▏  | 110/154 [1:59:47<47:34, 64.87s/it]\u001b[A\n",
      "Epochs 0/1. Running Loss:    1.5996:  72%|███████▏  | 111/154 [2:00:29<46:24, 64.76s/it]\u001b[A\n",
      "Epochs 0/1. Running Loss:    1.5681:  72%|███████▏  | 111/154 [2:00:52<46:24, 64.76s/it]\u001b[A\n",
      "Epochs 0/1. Running Loss:    1.5681:  73%|███████▎  | 112/154 [2:01:33<45:18, 64.73s/it]\u001b[A\n",
      "Epochs 0/1. Running Loss:    1.4051:  73%|███████▎  | 112/154 [2:01:56<45:18, 64.73s/it]\u001b[A\n",
      "Epochs 0/1. Running Loss:    1.4051:  73%|███████▎  | 113/154 [2:02:38<44:19, 64.87s/it]\u001b[A\n",
      "Epochs 0/1. Running Loss:    2.1426:  73%|███████▎  | 113/154 [2:03:02<44:19, 64.87s/it]\u001b[A\n",
      "Epochs 0/1. Running Loss:    2.1426:  74%|███████▍  | 114/154 [2:03:43<43:14, 64.86s/it]\u001b[A\n",
      "Epochs 0/1. Running Loss:    1.1897:  74%|███████▍  | 114/154 [2:04:07<43:14, 64.86s/it]\u001b[A\n",
      "Epochs 0/1. Running Loss:    1.1897:  75%|███████▍  | 115/154 [2:04:48<42:11, 64.91s/it]\u001b[A\n",
      "Epochs 0/1. Running Loss:    1.5520:  75%|███████▍  | 115/154 [2:05:11<42:11, 64.91s/it]\u001b[A\n",
      "Epochs 0/1. Running Loss:    1.5520:  75%|███████▌  | 116/154 [2:05:53<41:01, 64.79s/it]\u001b[A\n",
      "Epochs 0/1. Running Loss:    1.3341:  75%|███████▌  | 116/154 [2:06:16<41:01, 64.79s/it]\u001b[A\n",
      "Epochs 0/1. Running Loss:    1.3341:  76%|███████▌  | 117/154 [2:06:57<39:54, 64.71s/it]\u001b[A\n",
      "Epochs 0/1. Running Loss:    1.1878:  76%|███████▌  | 117/154 [2:07:21<39:54, 64.71s/it]\u001b[A\n",
      "Epochs 0/1. Running Loss:    1.1878:  77%|███████▋  | 118/154 [2:08:02<38:48, 64.67s/it]\u001b[A\n",
      "Epochs 0/1. Running Loss:    1.0899:  77%|███████▋  | 118/154 [2:08:25<38:48, 64.67s/it]\u001b[A\n",
      "Epochs 0/1. Running Loss:    1.0899:  77%|███████▋  | 119/154 [2:09:07<37:43, 64.68s/it]\u001b[A\n",
      "Epochs 0/1. Running Loss:    1.7129:  77%|███████▋  | 119/154 [2:09:30<37:43, 64.68s/it]\u001b[A\n",
      "Epochs 0/1. Running Loss:    1.7129:  78%|███████▊  | 120/154 [2:10:11<36:37, 64.64s/it]\u001b[A\n",
      "Epochs 0/1. Running Loss:    1.0573:  78%|███████▊  | 120/154 [2:10:34<36:37, 64.64s/it]\u001b[A\n",
      "Epochs 0/1. Running Loss:    1.0573:  79%|███████▊  | 121/154 [2:11:15<35:29, 64.54s/it]\u001b[A\n",
      "Epochs 0/1. Running Loss:    1.3513:  79%|███████▊  | 121/154 [2:11:39<35:29, 64.54s/it]\u001b[A\n",
      "Epochs 0/1. Running Loss:    1.3513:  79%|███████▉  | 122/154 [2:12:20<34:24, 64.50s/it]\u001b[A\n",
      "Epochs 0/1. Running Loss:    1.6933:  79%|███████▉  | 122/154 [2:12:43<34:24, 64.50s/it]\u001b[A\n",
      "Epochs 0/1. Running Loss:    1.6933:  80%|███████▉  | 123/154 [2:13:27<33:41, 65.21s/it]\u001b[A\n",
      "Epochs 0/1. Running Loss:    1.4962:  80%|███████▉  | 123/154 [2:13:51<33:41, 65.21s/it]\u001b[A\n",
      "Epochs 0/1. Running Loss:    1.4962:  81%|████████  | 124/154 [2:14:32<32:38, 65.27s/it]\u001b[A\n",
      "Epochs 0/1. Running Loss:    1.4471:  81%|████████  | 124/154 [2:14:55<32:38, 65.27s/it]\u001b[A\n",
      "Epochs 0/1. Running Loss:    1.4471:  81%|████████  | 125/154 [2:15:37<31:29, 65.14s/it]\u001b[A\n",
      "Epochs 0/1. Running Loss:    1.5487:  81%|████████  | 125/154 [2:16:00<31:29, 65.14s/it]\u001b[A\n",
      "Epochs 0/1. Running Loss:    1.5487:  82%|████████▏ | 126/154 [2:16:42<30:19, 64.97s/it]\u001b[A\n",
      "Epochs 0/1. Running Loss:    2.1203:  82%|████████▏ | 126/154 [2:17:05<30:19, 64.97s/it]\u001b[A\n",
      "Epochs 0/1. Running Loss:    2.1203:  82%|████████▏ | 127/154 [2:17:47<29:14, 64.98s/it]\u001b[A\n",
      "Epochs 0/1. Running Loss:    1.2722:  82%|████████▏ | 127/154 [2:18:10<29:14, 64.98s/it]\u001b[A\n",
      "Epochs 0/1. Running Loss:    1.2722:  83%|████████▎ | 128/154 [2:18:51<28:08, 64.95s/it]\u001b[A\n",
      "Epochs 0/1. Running Loss:    0.8004:  83%|████████▎ | 128/154 [2:19:15<28:08, 64.95s/it]\u001b[A\n",
      "Epochs 0/1. Running Loss:    0.8004:  84%|████████▍ | 129/154 [2:19:56<27:03, 64.95s/it]\u001b[A\n",
      "Epochs 0/1. Running Loss:    1.6847:  84%|████████▍ | 129/154 [2:20:20<27:03, 64.95s/it]\u001b[A\n",
      "Epochs 0/1. Running Loss:    1.6847:  84%|████████▍ | 130/154 [2:21:01<25:56, 64.85s/it]\u001b[A\n",
      "Epochs 0/1. Running Loss:    1.0174:  84%|████████▍ | 130/154 [2:21:25<25:56, 64.85s/it]\u001b[A\n",
      "Epochs 0/1. Running Loss:    1.0174:  85%|████████▌ | 131/154 [2:22:06<24:53, 64.93s/it]\u001b[A\n",
      "Epochs 0/1. Running Loss:    1.7014:  85%|████████▌ | 131/154 [2:22:30<24:53, 64.93s/it]\u001b[A\n",
      "Epochs 0/1. Running Loss:    1.7014:  86%|████████▌ | 132/154 [2:23:12<23:54, 65.19s/it]\u001b[A\n",
      "Epochs 0/1. Running Loss:    1.4107:  86%|████████▌ | 132/154 [2:23:36<23:54, 65.19s/it]\u001b[A\n",
      "Epochs 0/1. Running Loss:    1.4107:  86%|████████▋ | 133/154 [2:24:17<22:49, 65.20s/it]\u001b[A\n",
      "Epochs 0/1. Running Loss:    1.2285:  86%|████████▋ | 133/154 [2:24:41<22:49, 65.20s/it]\u001b[A\n",
      "Epochs 0/1. Running Loss:    1.2285:  87%|████████▋ | 134/154 [2:25:23<21:45, 65.27s/it]\u001b[A\n",
      "Epochs 0/1. Running Loss:    0.9943:  87%|████████▋ | 134/154 [2:25:46<21:45, 65.27s/it]\u001b[A\n",
      "Epochs 0/1. Running Loss:    0.9943:  88%|████████▊ | 135/154 [2:26:27<20:36, 65.07s/it]\u001b[A\n",
      "Epochs 0/1. Running Loss:    1.4331:  88%|████████▊ | 135/154 [2:26:51<20:36, 65.07s/it]\u001b[A\n",
      "Epochs 0/1. Running Loss:    1.4331:  88%|████████▊ | 136/154 [2:27:32<19:28, 64.93s/it]\u001b[A\n",
      "Epochs 0/1. Running Loss:    1.4558:  88%|████████▊ | 136/154 [2:27:55<19:28, 64.93s/it]\u001b[A\n",
      "Epochs 0/1. Running Loss:    1.4558:  89%|████████▉ | 137/154 [2:28:37<18:24, 64.94s/it]\u001b[A\n",
      "Epochs 0/1. Running Loss:    1.0864:  89%|████████▉ | 137/154 [2:29:00<18:24, 64.94s/it]\u001b[A\n",
      "Epochs 0/1. Running Loss:    1.0864:  90%|████████▉ | 138/154 [2:29:42<17:19, 64.96s/it]\u001b[A\n",
      "Epochs 0/1. Running Loss:    1.3393:  90%|████████▉ | 138/154 [2:30:06<17:19, 64.96s/it]\u001b[A\n",
      "Epochs 0/1. Running Loss:    1.3393:  90%|█████████ | 139/154 [2:30:47<16:16, 65.12s/it]\u001b[A\n",
      "Epochs 0/1. Running Loss:    1.4321:  90%|█████████ | 139/154 [2:31:11<16:16, 65.12s/it]\u001b[A\n",
      "Epochs 0/1. Running Loss:    1.4321:  91%|█████████ | 140/154 [2:31:52<15:10, 65.06s/it]\u001b[A\n",
      "Epochs 0/1. Running Loss:    1.2116:  91%|█████████ | 140/154 [2:32:16<15:10, 65.06s/it]\u001b[A\n",
      "Epochs 0/1. Running Loss:    1.2116:  92%|█████████▏| 141/154 [2:32:59<14:12, 65.58s/it]\u001b[A\n",
      "Epochs 0/1. Running Loss:    1.4486:  92%|█████████▏| 141/154 [2:33:22<14:12, 65.58s/it]\u001b[A\n",
      "Epochs 0/1. Running Loss:    1.4486:  92%|█████████▏| 142/154 [2:34:05<13:08, 65.69s/it]\u001b[A\n",
      "Epochs 0/1. Running Loss:    1.5732:  92%|█████████▏| 142/154 [2:34:29<13:08, 65.69s/it]\u001b[A\n",
      "Epochs 0/1. Running Loss:    1.5732:  93%|█████████▎| 143/154 [2:35:12<12:06, 66.02s/it]\u001b[A\n",
      "Epochs 0/1. Running Loss:    1.3419:  93%|█████████▎| 143/154 [2:35:35<12:06, 66.02s/it]\u001b[A\n",
      "Epochs 0/1. Running Loss:    1.3419:  94%|█████████▎| 144/154 [2:36:16<10:55, 65.59s/it]\u001b[A\n",
      "Epochs 0/1. Running Loss:    1.1621:  94%|█████████▎| 144/154 [2:36:40<10:55, 65.59s/it]\u001b[A\n",
      "Epochs 0/1. Running Loss:    1.1621:  94%|█████████▍| 145/154 [2:37:21<09:49, 65.48s/it]\u001b[A\n",
      "Epochs 0/1. Running Loss:    1.0304:  94%|█████████▍| 145/154 [2:37:45<09:49, 65.48s/it]\u001b[A\n",
      "Epochs 0/1. Running Loss:    1.0304:  95%|█████████▍| 146/154 [2:38:28<08:45, 65.69s/it]\u001b[A\n",
      "Epochs 0/1. Running Loss:    1.5128:  95%|█████████▍| 146/154 [2:38:52<08:45, 65.69s/it]\u001b[A\n",
      "Epochs 0/1. Running Loss:    1.5128:  95%|█████████▌| 147/154 [2:39:37<07:46, 66.64s/it]\u001b[A\n",
      "Epochs 0/1. Running Loss:    1.6395:  95%|█████████▌| 147/154 [2:40:01<07:46, 66.64s/it]\u001b[A\n",
      "Epochs 0/1. Running Loss:    1.6395:  96%|█████████▌| 148/154 [2:40:42<06:37, 66.30s/it]\u001b[A\n",
      "Epochs 0/1. Running Loss:    1.2433:  96%|█████████▌| 148/154 [2:41:05<06:37, 66.30s/it]\u001b[A\n",
      "Epochs 0/1. Running Loss:    1.2433:  97%|█████████▋| 149/154 [2:41:47<05:29, 65.99s/it]\u001b[A\n",
      "Epochs 0/1. Running Loss:    2.0800:  97%|█████████▋| 149/154 [2:42:11<05:29, 65.99s/it]\u001b[A\n",
      "Epochs 0/1. Running Loss:    2.0800:  97%|█████████▋| 150/154 [2:42:53<04:23, 65.86s/it]\u001b[A\n",
      "Epochs 0/1. Running Loss:    1.3710:  97%|█████████▋| 150/154 [2:43:16<04:23, 65.86s/it]\u001b[A\n",
      "Epochs 0/1. Running Loss:    1.3710:  98%|█████████▊| 151/154 [2:43:58<03:17, 65.70s/it]\u001b[A\n",
      "Epochs 0/1. Running Loss:    1.2915:  98%|█████████▊| 151/154 [2:44:22<03:17, 65.70s/it]\u001b[A\n",
      "Epochs 0/1. Running Loss:    1.2915:  99%|█████████▊| 152/154 [2:45:04<02:11, 65.59s/it]\u001b[A\n",
      "Epochs 0/1. Running Loss:    1.4410:  99%|█████████▊| 152/154 [2:45:27<02:11, 65.59s/it]\u001b[A\n",
      "Epochs 0/1. Running Loss:    1.4410:  99%|█████████▉| 153/154 [2:46:09<01:05, 65.45s/it]\u001b[A\n",
      "Epochs 0/1. Running Loss:    1.9441:  99%|█████████▉| 153/154 [2:46:16<01:05, 65.45s/it]\u001b[A\n",
      "Epochs 0/1. Running Loss:    1.9441: 100%|██████████| 154/154 [2:46:29<00:00, 64.87s/it]\n",
      "Epoch 1 of 1: 100%|██████████| 1/1 [2:46:30<00:00, 9990.60s/it]\n",
      "INFO:simpletransformers.classification.classification_model: Training of xlnet model complete. Saved to outputs/.\n",
      "INFO:simpletransformers.classification.classification_utils: Converting to features started. Cache is not used.\n",
      "  0%|          | 2/546 [00:00<01:02,  8.74it/s]\n",
      "INFO:simpletransformers.classification.classification_utils: Saving features into cached file cache_dir/cached_dev_xlnet_128_50_2\n",
      "Running Evaluation: 100%|██████████| 35/35 [06:12<00:00, 10.64s/it]\n",
      "INFO:simpletransformers.classification.classification_model:{'mcc': 0.7000285201662858, 'acc': 0.7234432234432234, 'eval_loss': 1.1730737882001059}\n"
     ]
    }
   ],
   "source": [
    "from sklearn.model_selection import train_test_split\n",
    "import sklearn\n",
    "\n",
    "train_data, eval_data = train_test_split(df, test_size=0.1, random_state=123, shuffle=True)\n",
    "\n",
    "# Configure the model\n",
    "model_args = ClassificationArgs()\n",
    "model_args.manual_seed = 123\n",
    "model_args.num_train_epochs = 1\n",
    "model_args.train_batch_size = 32\n",
    "# model_args.evaluate_during_training = True\n",
    "model_args.max_seq_length = 128\n",
    "model_args.learning_rate = 4e-5\n",
    "model_args.eval_batch_size = 16\n",
    "model_args.weight_decay = 1e-4\n",
    "model_args.reprocess_input_data = True\n",
    "model_args.overwrite_output_dir = True\n",
    "# model_args.evaluate_during_training = True\n",
    "# model_args.evaluate_each_epoch = True\n",
    "# model_args.save_model_every_epoch = True\n",
    "model_args.save_optimizer_and_scheduler = True\n",
    "model = ClassificationModel( \"xlnet\", \"xlnet-base-cased\", num_labels = 50, args=model_args, use_cuda=False)\n",
    "\n",
    "\n",
    "# Train the model\n",
    "model.train_model(train_df = train_data, acc=sklearn.metrics.accuracy_score)\n",
    "\n",
    "# Evaluate the model\n",
    "result, model_outputs, preds_list = model.eval_model(eval_df = eval_data, acc=sklearn.metrics.accuracy_score)"
   ]
  },
  {
   "cell_type": "code",
   "execution_count": 11,
   "metadata": {},
   "outputs": [
    {
     "output_type": "stream",
     "name": "stderr",
     "text": [
      "INFO:simpletransformers.classification.classification_utils: Converting to features started. Cache is not used.\n",
      "  0%|          | 2/546 [00:00<01:38,  5.52it/s]\n",
      "INFO:simpletransformers.classification.classification_utils: Saving features into cached file cache_dir/cached_dev_xlnet_128_50_2\n",
      "Running Evaluation: 100%|██████████| 35/35 [06:09<00:00, 10.55s/it]\n",
      "INFO:simpletransformers.classification.classification_model:{'mcc': 0.6759841607099253, 'acc': 0.7014652014652014, 'eval_loss': 1.2545148278985705}\n",
      "INFO:simpletransformers.classification.classification_utils: Converting to features started. Cache is not used.\n",
      "100%|██████████| 1/1 [00:00<00:00, 14.88it/s]\n",
      "100%|██████████| 1/1 [00:00<00:00,  1.38it/s][1]\n",
      "\n"
     ]
    }
   ],
   "source": [
    "from sklearn.model_selection import train_test_split\n",
    "import sklearn\n",
    "\n",
    "train_data, eval_data = train_test_split(df, test_size=0.1, random_state=123, shuffle=True)\n",
    "\n",
    "# Configure the model\n",
    "model_args = ClassificationArgs()\n",
    "model_args.manual_seed = 123\n",
    "model_args.num_train_epochs = 1\n",
    "model_args.train_batch_size = 32\n",
    "# model_args.evaluate_during_training = True\n",
    "model_args.max_seq_length = 128\n",
    "model_args.learning_rate = 4e-5\n",
    "model_args.eval_batch_size = 16\n",
    "model_args.weight_decay = 1e-4\n",
    "model_args.reprocess_input_data = True\n",
    "model_args.overwrite_output_dir = True\n",
    "# model_args.evaluate_during_training = True\n",
    "# model_args.evaluate_each_epoch = True\n",
    "# model_args.save_model_every_epoch = True\n",
    "model_args.save_optimizer_and_scheduler = True\n",
    "model = ClassificationModel( \"xlnet\", \"./outputs\", num_labels = 50, args=model_args, use_cuda=False)\n",
    "\n",
    "\n",
    "# # Train the model\n",
    "# model.train_model(train_df = train_data, acc=sklearn.metrics.accuracy_score)\n",
    "\n",
    "# Evaluate the model\n",
    "result, model_outputs, preds_list = model.eval_model(eval_df = eval_data, acc=sklearn.metrics.accuracy_score)\n",
    "\n",
    "# Make predictions with the model\n",
    "predictions, raw_outputs = model.predict([\"What type of currency is used in China ?\"])\n",
    "\n",
    "print(predictions)"
   ]
  },
  {
   "cell_type": "code",
   "execution_count": null,
   "metadata": {},
   "outputs": [],
   "source": []
  }
 ]
}